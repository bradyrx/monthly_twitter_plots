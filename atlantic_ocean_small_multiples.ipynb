{
 "cells": [
  {
   "cell_type": "markdown",
   "metadata": {},
   "source": [
    "# Atlantic Ocean Small Multiples\n",
    "Investigating changes in Southern Ocean SSTs over the decades."
   ]
  },
  {
   "cell_type": "code",
   "execution_count": 1,
   "metadata": {},
   "outputs": [
    {
     "name": "stderr",
     "output_type": "stream",
     "text": [
      "/Users/ribr5703/miniconda3/envs/py36/lib/python3.6/site-packages/cmocean/tools.py:76: MatplotlibDeprecationWarning: The is_string_like function was deprecated in version 2.1.\n",
      "  if not mpl.cbook.is_string_like(rgbin[0]):\n"
     ]
    }
   ],
   "source": [
    "import xarray as xr\n",
    "import matplotlib.pyplot as plt\n",
    "%matplotlib inline\n",
    "import esmtools as et\n",
    "import pandas as pd\n",
    "import cartopy.crs as ccrs\n",
    "import cartopy.feature as cfeature\n",
    "from cartopy.util import add_cyclic_point\n",
    "import cmocean.cm as cm"
   ]
  },
  {
   "cell_type": "code",
   "execution_count": 2,
   "metadata": {},
   "outputs": [],
   "source": [
    "ds = xr.open_dataset('/Users/ribr5703/Downloads/sst.mon.mean.nc')\n",
    "ds = ds['sst']\n",
    "latest_month = len(ds.time) - (2018 - 1891)*12\n",
    "ds['time'] = pd.date_range('1891-01', '2018-0' + str(latest_month+1), freq='M')\n",
    "ds = ds.groupby('time.year').mean('time')\n",
    "# Create anomalies.\n",
    "clim = ds.sel(year=slice(1891,1920)).mean('year')\n",
    "anom = ds - clim"
   ]
  },
  {
   "cell_type": "markdown",
   "metadata": {},
   "source": [
    "## Small Multiples Map"
   ]
  },
  {
   "cell_type": "code",
   "execution_count": null,
   "metadata": {},
   "outputs": [],
   "source": [
    "import matplotlib as mpl\n",
    "mpl.rcParams['font.size'] = 20\n",
    "mpl.rcParams['font.family'] = ['sans-serif']\n",
    "mpl.rcParams['font.sans-serif'] = ['Avant Garde']\n",
    "mpl.rcParams['figure.facecolor'] = 'k'\n",
    "mpl.rcParams['axes.edgecolor'] = 'w'\n",
    "mpl.rcParams['axes.labelcolor'] = 'w'\n",
    "mpl.rcParams['text.color'] = 'w'\n",
    "mpl.rcParams['xtick.major.size'] = 0\n",
    "mpl.rcParams['xtick.minor.size'] = 0\n",
    "mpl.rcParams['xtick.color'] = 'w'\n",
    "mpl.rcParams['ytick.major.size'] = 0\n",
    "mpl.rcParams['ytick.minor.size'] = 0\n",
    "mpl.rcParams['savefig.facecolor'] = 'k'\n",
    "mpl.rcParams['text.usetex'] = False"
   ]
  },
  {
   "cell_type": "code",
   "execution_count": 3,
   "metadata": {},
   "outputs": [],
   "source": [
    "# Start in 1900\n",
    "anom = anom.sel(year=slice(1900,2018))\n",
    "cdata, clons = add_cyclic_point(anom.values, coord=anom.lon)\n",
    "canom = xr.DataArray(cdata, coords=[anom.year, anom.lat, clons],\n",
    "                     dims=['year','lat','lon'])"
   ]
  },
  {
   "cell_type": "code",
   "execution_count": null,
   "metadata": {},
   "outputs": [],
   "source": [
    "f, axes = plt.subplots(figsize=(18,18), ncols=10, nrows=12,\n",
    "                       subplot_kw=dict(\n",
    "                       projection=ccrs.Orthographic(central_longitude=-150.0, \n",
    "                                                    central_latitude=0.0)))\n",
    "\n",
    "for i, ax in enumerate(f.axes):\n",
    "    if i > 117:\n",
    "        ax.outline_patch.set_edgecolor('white')\n",
    "        del ax\n",
    "    else:\n",
    "        data = canom.isel(year=i)\n",
    "        p = ax.pcolormesh(canom.lon, canom.lat,\n",
    "                       data, vmin=-2, vmax=2,\n",
    "                       transform=ccrs.PlateCarree(),\n",
    "                       cmap=et.vis.discrete_cmap(16, cm.balance))\n",
    "        ax.add_feature(cfeature.LAND, facecolor='k') \n",
    "f.tight_layout()\n",
    "#plt.savefig('atlantic_small_multiples.png', bbox_inches='tight',\n",
    "#pad_inches=1, transparent=True)"
   ]
  },
  {
   "cell_type": "markdown",
   "metadata": {},
   "source": [
    "## SST Timeseries"
   ]
  },
  {
   "cell_type": "code",
   "execution_count": 6,
   "metadata": {},
   "outputs": [],
   "source": [
    "mask = xr.open_dataset('/Users/ribr5703/Desktop/latlon_1x1_mask.nc')\n",
    "mask = mask['REGION_MASK']"
   ]
  },
  {
   "cell_type": "code",
   "execution_count": 16,
   "metadata": {},
   "outputs": [],
   "source": [
    "mask['lon'] = mask['lon'] + 0.5"
   ]
  },
  {
   "cell_type": "code",
   "execution_count": 53,
   "metadata": {},
   "outputs": [
    {
     "data": {
      "text/plain": [
       "Text(0.5,1,'Atlantic Ocean Mean SST')"
      ]
     },
     "execution_count": 53,
     "metadata": {},
     "output_type": "execute_result"
    },
    {
     "data": {
      "image/png": "[encoded data removed]",
      "text/plain": [
       "<Figure size 432x288 with 1 Axes>"
      ]
     },
     "metadata": {},
     "output_type": "display_data"
    }
   ],
   "source": [
    "f, ax = plt.subplots()\n",
    "plt.style.use('ocn-clim')\n",
    "atl_timeseries = ds.where(mask == 6).stack(grid=['lat', 'lon']).mean('grid')\n",
    "atl_timeseries.isel(year=slice(0, 127)).plot()\n",
    "clim_mean = atl_timeseries.isel(year=slice(0, 31)).mean('year')\n",
    "plt.plot(np.arange(1891, 1921, 1), [clim_mean]*30, '-k')\n",
    "ax.set_ylim([20, 22])\n",
    "ax.set_ylabel('Annual Average SST ($^{\\mathrm{o}}$C)')\n",
    "ax.set_title('Atlantic Ocean Mean SST')"
   ]
  }
 ],
 "metadata": {
  "kernelspec": {
   "display_name": "Python 3",
   "language": "python",
   "name": "python3"
  },
  "language_info": {
   "codemirror_mode": {
    "name": "ipython",
    "version": 3
   },
   "file_extension": ".py",
   "mimetype": "text/x-python",
   "name": "python",
   "nbconvert_exporter": "python",
   "pygments_lexer": "ipython3",
   "version": "3.6.6"
  },
  "toc": {
   "base_numbering": 1,
   "nav_menu": {},
   "number_sections": true,
   "sideBar": true,
   "skip_h1_title": false,
   "title_cell": "Table of Contents",
   "title_sidebar": "Contents",
   "toc_cell": false,
   "toc_position": {},
   "toc_section_display": true,
   "toc_window_display": false
  },
  "varInspector": {
   "cols": {
    "lenName": 16,
    "lenType": 16,
    "lenVar": 40
   },
   "kernels_config": {
    "python": {
     "delete_cmd_postfix": "",
     "delete_cmd_prefix": "del ",
     "library": "var_list.py",
     "varRefreshCmd": "print(var_dic_list())"
    },
    "r": {
     "delete_cmd_postfix": ") ",
     "delete_cmd_prefix": "rm(",
     "library": "var_list.r",
     "varRefreshCmd": "cat(var_dic_list()) "
    }
   },
   "types_to_exclude": [
    "module",
    "function",
    "builtin_function_or_method",
    "instance",
    "_Feature"
   ],
   "window_display": false
  }
 },
 "nbformat": 4,
 "nbformat_minor": 2
}
